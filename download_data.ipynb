{
 "cells": [
  {
   "cell_type": "markdown",
   "id": "a7200b4f-b9f8-4dfb-87b3-70de47432b01",
   "metadata": {
    "tags": []
   },
   "source": [
    "# Download the data"
   ]
  },
  {
   "cell_type": "code",
   "execution_count": 38,
   "id": "1610a951-5314-4c92-ae08-39bd0b012355",
   "metadata": {
    "scrolled": true
   },
   "outputs": [],
   "source": [
    "!kaggle competitions download -c airbus-ship-detection"
   ]
  },
  {
   "cell_type": "code",
   "execution_count": 39,
   "id": "150aada9-77e0-4a23-854e-c6d94b08a066",
   "metadata": {
    "tags": []
   },
   "outputs": [
    {
     "data": {
      "text/plain": [
       "'\\n\\nimport zipfile\\nfrom tqdm import tqdm\\n\\nwith zipfile.ZipFile(\"./airbus-ship-detection.zip\") as zf:\\n    for member in tqdm(zf.infolist(), desc=\\'Extracting \\'):\\n        try:\\n            zf.extract(member, \"./\")\\n        except zipfile.error as e:\\n            print(e)\\n'"
      ]
     },
     "execution_count": 39,
     "metadata": {},
     "output_type": "execute_result"
    }
   ],
   "source": [
    "import zipfile\n",
    "from tqdm import tqdm\n",
    "\n",
    "with zipfile.ZipFile(\"./airbus-ship-detection.zip\") as zf:\n",
    "    for member in tqdm(zf.infolist(), desc='Extracting '):\n",
    "        try:\n",
    "            zf.extract(member, \"./\")\n",
    "        except zipfile.error as e:\n",
    "            print(e)"
   ]
  }
 ],
 "metadata": {
  "kernelspec": {
   "display_name": "Python 3 (ipykernel)",
   "language": "python",
   "name": "python3"
  },
  "language_info": {
   "codemirror_mode": {
    "name": "ipython",
    "version": 3
   },
   "file_extension": ".py",
   "mimetype": "text/x-python",
   "name": "python",
   "nbconvert_exporter": "python",
   "pygments_lexer": "ipython3",
   "version": "3.9.12"
  }
 },
 "nbformat": 4,
 "nbformat_minor": 5
}
